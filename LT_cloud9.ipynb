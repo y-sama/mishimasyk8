{
 "cells": [
  {
   "cell_type": "markdown",
   "metadata": {
    "slideshow": {
     "slide_type": "slide"
    }
   },
   "source": [
    "# LT \n",
    "# cloud9を使ったお気楽チュートリアル環境構築\n",
    "@y__sama"
   ]
  },
  {
   "cell_type": "markdown",
   "metadata": {
    "slideshow": {
     "slide_type": "slide"
    }
   },
   "source": [
    "## what's cloud9?\n",
    "\n",
    "- アプリケーションの開発などをクラウド環境でできるonline IDE\n",
    "  - HerokuやGAEにコマンドラインでデプロイ可能。cloud9の中でテスト的にサービスの実行も可能。\n",
    "- バックグラウンドはgoogle cloud platform。\n",
    "- pubricなら無料でたくさん仮想マシンが作れる。privateも無料で一個作れる。\n",
    "  - 無料だと流石に弱々サーバ(1 core, memory:512MB, HDD:2GB)だけど、botくらいには使えそう。\n",
    "- ubuntuの仮想マシンの中は**su付きでbashが使える**。事実上なんでもできる。\n",
    "  - しかも最初からgitが入っているのは嬉しい。"
   ]
  },
  {
   "cell_type": "markdown",
   "metadata": {
    "slideshow": {
     "slide_type": "slide"
    }
   },
   "source": [
    "## cloud9のサインアップ\n",
    "https://c9.io\n",
    "にアクセスして真ん中にメアドを入力するだけ。本当にこれだけ。"
   ]
  },
  {
   "cell_type": "markdown",
   "metadata": {},
   "source": [
    "<img  src=\"Screenshot%202016-05-22%20at%2022.09.13.png\"/>"
   ]
  },
  {
   "cell_type": "markdown",
   "metadata": {
    "slideshow": {
     "slide_type": "slide"
    }
   },
   "source": [
    "## workspaceの作り方\n",
    "＋を押して、workspace名と初期設定を選択する。  \n",
    "今回はpythonを一応選ぶけど、なんでもいい。"
   ]
  },
  {
   "cell_type": "markdown",
   "metadata": {},
   "source": [
    "<img  src=\"Screenshot 2016-05-22 at 22.09.41.png\"/>"
   ]
  },
  {
   "cell_type": "markdown",
   "metadata": {
    "slideshow": {
     "slide_type": "subslide"
    }
   },
   "source": [
    "<img  src=\"Screenshot 2016-05-22 at 22.09.56.png\"/>"
   ]
  },
  {
   "cell_type": "markdown",
   "metadata": {
    "slideshow": {
     "slide_type": "slide"
    }
   },
   "source": [
    "## workspaceでのbash\n",
    "初期画面にbashのwindowがあって、すでにsu権限がついているのでやりたい放題ww"
   ]
  },
  {
   "cell_type": "markdown",
   "metadata": {},
   "source": [
    "<img  src=\"Screenshot 2016-05-22 at 22.10.57.png\"/>"
   ]
  },
  {
   "cell_type": "markdown",
   "metadata": {
    "slideshow": {
     "slide_type": "slide"
    }
   },
   "source": [
    "今回のチュートリアル環境の構築用スクリプトをgithubにあげてあるので、cloneして実行してください。"
   ]
  },
  {
   "cell_type": "markdown",
   "metadata": {
    "slideshow": {
     "slide_type": "-"
    }
   },
   "source": [
    "```bash\n",
    "git clone https://y-sama/cloud9.git\n",
    "bash cloud9/init.sh\n",
    "```"
   ]
  }
 ],
 "metadata": {
  "celltoolbar": "Slideshow",
  "kernelspec": {
   "display_name": "Python 3",
   "language": "python",
   "name": "python3"
  },
  "language_info": {
   "codemirror_mode": {
    "name": "ipython",
    "version": 3
   },
   "file_extension": ".py",
   "mimetype": "text/x-python",
   "name": "python",
   "nbconvert_exporter": "python",
   "pygments_lexer": "ipython3",
   "version": "3.5.1"
  }
 },
 "nbformat": 4,
 "nbformat_minor": 0
}
