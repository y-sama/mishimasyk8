{
 "cells": [
  {
   "cell_type": "markdown",
   "metadata": {
    "slideshow": {
     "slide_type": "slide"
    }
   },
   "source": [
    "# BiocondaとBiobuilds"
   ]
  },
  {
   "cell_type": "markdown",
   "metadata": {},
   "source": [
    "- condaは各プラットフォームにあわせてbuild済みのファイルを配布できる。\n",
    "- pythonのパッケージに限らず、なんでもcondaで配布が可能。\n",
    "- bioinfoのツールを配布するBiocondaとBiobuildsというプロジェクトがある。"
   ]
  },
  {
   "cell_type": "markdown",
   "metadata": {
    "slideshow": {
     "slide_type": "slide"
    }
   },
   "source": [
    "<img  src=\"Screenshot 2016-05-27 at 13.33.47.png\"/　width=500 align=\"left\"><img  src=\"Screenshot 2016-05-27 at 13.33.38.png\"/ width=500 align=\"right\">"
   ]
  },
  {
   "cell_type": "markdown",
   "metadata": {},
   "source": [
    "https://anaconda.org/bioconda  \n",
    "https://anaconda.org/biobuilds"
   ]
  },
  {
   "cell_type": "markdown",
   "metadata": {
    "slideshow": {
     "slide_type": "slide"
    }
   },
   "source": [
    "- cufflinksやbowtieなど主要なNGS解析用ツールはありそう\n",
    "- bioberlや一部のbioconductorのパッケージもある\n",
    "- hisat2のような新し目のものもbiocondaにはある"
   ]
  },
  {
   "cell_type": "markdown",
   "metadata": {
    "slideshow": {
     "slide_type": "slide"
    }
   },
   "source": [
    "||bioconda|biobuilds|\n",
    "|:--|:--|:--|\n",
    "|パッケージ数|1138|350|\n",
    "|こちらにしかないパッケージ例|hisat2|Rやperlの追加モジュール|\n",
    "|platform|linuxだけのものも多い|ほとんどosx対応|"
   ]
  },
  {
   "cell_type": "markdown",
   "metadata": {
    "slideshow": {
     "slide_type": "slide"
    }
   },
   "source": [
    "需要があるか不明だが、condaを使った環境管理が可能 (^^"
   ]
  },
  {
   "cell_type": "markdown",
   "metadata": {
    "slideshow": {
     "slide_type": "-"
    }
   },
   "source": [
    "インストール例\n",
    "```bash\n",
    "conda create -n NGS -c bioconda cufflinks bowtie2\n",
    "```"
   ]
  },
  {
   "cell_type": "markdown",
   "metadata": {
    "slideshow": {
     "slide_type": "subslide"
    }
   },
   "source": [
    "```\n",
    "The following packages will be downloaded:\n",
    "\n",
    "    package                    |            build\n",
    "    ---------------------------|-----------------\n",
    "    libgcc-5.2.0               |                0         1.1 MB\n",
    "    perl-threaded-5.22.0       |               10        11.2 MB\n",
    "    sqlite-3.13.0              |                0         4.0 MB\n",
    "    zlib-1.2.8                 |                3         101 KB\n",
    "    bowtie2-2.2.8              |           py35_2        10.6 MB\n",
    "    cufflinks-2.2.1            |           py35_1        47.9 MB\n",
    "    setuptools-21.2.1          |           py35_0         460 KB\n",
    "    ------------------------------------------------------------\n",
    "                                           Total:        75.3 MB\n",
    "```"
   ]
  },
  {
   "cell_type": "markdown",
   "metadata": {
    "slideshow": {
     "slide_type": "slide"
    }
   },
   "source": [
    "```bash\n",
    "activate NGS\n",
    "cufflinks\n",
    "#>>>cufflinks v2.2.1\n",
    "#>>>linked against Boost version 104700\n",
    "#>>>-----------------------------\n",
    "#>>>Usage:   cufflinks [options] <hits.sam>\n",
    "#>>>General Options:\n",
    "#>>>  -o/--output-dir              write all output files to this directory              [ default:     ./ ]\n",
    "#>>>  -p/--num-threads             number of threads used during analysis                [ default:      1 ]\n",
    "```"
   ]
  },
  {
   "cell_type": "markdown",
   "metadata": {},
   "source": [
    "動くっぽい。"
   ]
  },
  {
   "cell_type": "markdown",
   "metadata": {
    "slideshow": {
     "slide_type": "slide"
    }
   },
   "source": [
    "まだ一年立ってないのでどうなるか不明だけど、bioconductorみたいに育ったらいいなと期待☆"
   ]
  }
 ],
 "metadata": {
  "celltoolbar": "Slideshow",
  "kernelspec": {
   "display_name": "Python 3",
   "language": "python",
   "name": "python3"
  },
  "language_info": {
   "codemirror_mode": {
    "name": "ipython",
    "version": 3
   },
   "file_extension": ".py",
   "mimetype": "text/x-python",
   "name": "python",
   "nbconvert_exporter": "python",
   "pygments_lexer": "ipython3",
   "version": "3.5.1"
  }
 },
 "nbformat": 4,
 "nbformat_minor": 0
}
